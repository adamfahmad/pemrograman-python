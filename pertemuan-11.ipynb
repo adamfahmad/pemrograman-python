{
  "nbformat": 4,
  "nbformat_minor": 0,
  "metadata": {
    "colab": {
      "name": "Untitled",
      "provenance": [],
      "authorship_tag": "ABX9TyMtEQS3n1h7MLEBKhzt9q2m",
      "include_colab_link": true
    },
    "kernelspec": {
      "name": "python3",
      "display_name": "Python 3"
    }
  },
  "cells": [
    {
      "cell_type": "markdown",
      "metadata": {
        "id": "view-in-github",
        "colab_type": "text"
      },
      "source": [
        "<a href=\"https://colab.research.google.com/github/adamfahmad/pemrograman-python/blob/main/pertemuan-11.ipynb\" target=\"_parent\"><img src=\"https://colab.research.google.com/assets/colab-badge.svg\" alt=\"Open In Colab\"/></a>"
      ]
    },
    {
      "cell_type": "code",
      "metadata": {
        "colab": {
          "base_uri": "https://localhost:8080/"
        },
        "id": "eYizg922ndGp",
        "outputId": "b0b28c1b-0a8f-4a37-a4c9-90375c394e1a"
      },
      "source": [
        "from google.colab import drive\n",
        "drive.mount('/content/drive')"
      ],
      "execution_count": 1,
      "outputs": [
        {
          "output_type": "stream",
          "text": [
            "Mounted at /content/drive\n"
          ],
          "name": "stdout"
        }
      ]
    },
    {
      "cell_type": "code",
      "metadata": {
        "colab": {
          "base_uri": "https://localhost:8080/"
        },
        "id": "bN3ISffNngBC",
        "outputId": "b11f14a1-32d2-482b-cfcf-30848bc867e6"
      },
      "source": [
        "cd /content/drive/MyDrive"
      ],
      "execution_count": 2,
      "outputs": [
        {
          "output_type": "stream",
          "text": [
            "/content/drive/MyDrive\n"
          ],
          "name": "stdout"
        }
      ]
    },
    {
      "cell_type": "code",
      "metadata": {
        "colab": {
          "base_uri": "https://localhost:8080/"
        },
        "id": "8YQ_rk7Dnsj9",
        "outputId": "866bc49f-5fa6-4626-866e-707cbb82fa70"
      },
      "source": [
        "ls"
      ],
      "execution_count": 3,
      "outputs": [
        {
          "output_type": "stream",
          "text": [
            "'1101183489 Registrasi _ Telkom University (fix) (1).pdf'\n",
            "'1101183489 Registrasi _ Telkom University (fix) (2).pdf'\n",
            "'1101183489 Registrasi _ Telkom University (fix).pdf'\n",
            "'126_form presensi RAS (1).gdoc'\n",
            "'126_form presensi RAS (2).gdoc'\n",
            "'126_form presensi RAS.gdoc'\n",
            " \u001b[0m\u001b[01;34mClassroom\u001b[0m/\n",
            "\u001b[01;34m'Colab Notebooks'\u001b[0m/\n",
            "'file ksm.png'\n",
            "'form kehadiran 2..png'\n",
            "'form Kehadiran.png'\n",
            "'Formulir tanpa judul.gform'\n",
            "'Hasil Praktikum_TT-09_21_Adam Fauzan Ahmad_1101183489 (1).rar'\n",
            "'Hasil Praktikum_TT-09_21_Adam Fauzan Ahmad_1101183489.rar'\n",
            "'Jurnal 1.pdf'\n",
            "'JURNAL_MODUL1_SISKOM-18031_1101183489_ADAM FAUZAN AHMAD.pdf'\n",
            "'JURNAL_MODUL2_SISKOM-18031_1101183489_ADAM FAUZAN AHMAD 29-Sep-2020 19-24-28.pdf'\n",
            "'JURNAL MODUL 2_TT-9_Adam Fauzan Ahmad_1101183489..pdf'\n",
            "'JURNAL_MODUL3_SISKOM-18031_1101183489_ADAM FAUZAN AHMAD.pdf'\n",
            "'Laporan KBMS ANNIVERSARY2020.gsheet'\n",
            "'modul 1_21_Adam Fauzan Ahmad_1101183489.rar'\n",
            "'MODUL3_21_1101183489_ADAM FAUZAN AHMAD.rar'\n",
            "\u001b[01;34m'pemrograman Python'\u001b[0m/\n",
            "\u001b[01;34m'pertemuan 11'\u001b[0m/\n",
            "'running modul (1).png'\n",
            "'running modul.png'\n",
            "'Salinan RUNNING MODUL SISKOM.pptx'\n",
            " Screenshot_20200714-130145_Instagram.jpg\n",
            " Screenshot_20200716-171418_Instagram.jpg\n",
            "'seminar 2.png'\n",
            " TA_1.pdf\n",
            "'TA2_TT-09_1101183489_Adam Fauzan Ahmad 29-Sep-2020 18-57-54.pdf'\n",
            "\u001b[01;34m'Tugas SKO (Proses Pembuatan Fiber Optik)_1101183489_Adam Fauzan Ahmad'\u001b[0m/\n",
            "\u001b[01;34m'Vidio probstat'\u001b[0m/\n",
            "'WhatsApp Image 2020-07-18 at 18.31.30.jpeg'\n"
          ],
          "name": "stdout"
        }
      ]
    },
    {
      "cell_type": "code",
      "metadata": {
        "id": "MjP469nVnvsA"
      },
      "source": [
        "# import the necessary packages\n",
        "from keras.models import Sequential\n",
        "from keras.layers.core import Activation\n",
        "from keras.layers.core import Flatten\n",
        "from keras.layers.core import Dense\n",
        "from keras.optimizers import Adam\n",
        "from sklearn.preprocessing import LabelBinarizer\n",
        "from sklearn.model_selection import train_test_split\n",
        "from sklearn.metrics import classification_report\n",
        "from PIL import Image\n",
        "from imutils import paths\n",
        "import numpy as np\n",
        "import os"
      ],
      "execution_count": 4,
      "outputs": []
    },
    {
      "cell_type": "code",
      "metadata": {
        "colab": {
          "base_uri": "https://localhost:8080/"
        },
        "id": "BVo_GAx5nywn",
        "outputId": "5d8198e0-fadd-4be8-9d8d-c6bbf500af5e"
      },
      "source": [
        "# grab all image paths in the input dataset directory, then initialize\n",
        "# our list of images and corresponding class labels\n",
        "print(\"[INFO] loading images...\")\n",
        "imagePaths = paths.list_images(\"pemrograman Python\")\n",
        "data = []\n",
        "labels = []"
      ],
      "execution_count": 5,
      "outputs": [
        {
          "output_type": "stream",
          "text": [
            "[INFO] loading images...\n"
          ],
          "name": "stdout"
        }
      ]
    },
    {
      "cell_type": "code",
      "metadata": {
        "id": "qzcA2nYEn05o"
      },
      "source": [
        "# loop over our input images\n",
        "for imagePath in imagePaths:\n",
        "\t# load the input image from disk, resize it to 64x64 pixels, scale\n",
        "\t# the pixel intensities to the range [0, 1], and then update our\n",
        "\t# images list\n",
        "\timage = Image.open(imagePath)\n",
        "  #preprocessing\n",
        "\timage = np.array(image.resize((64, 64))) / 255.0 #normalisasi\n",
        "\tdata.append(image)\n",
        "\n",
        "\t# extract the class label from the file path and update the\n",
        "\t# labels list\n",
        "\tlabel = imagePath.split(os.path.sep)[-2]\n",
        "\tlabels.append(label)"
      ],
      "execution_count": 6,
      "outputs": []
    },
    {
      "cell_type": "code",
      "metadata": {
        "colab": {
          "base_uri": "https://localhost:8080/"
        },
        "id": "1yFS4gKRn3Rc",
        "outputId": "421eda7e-1040-422d-ce74-12d81acb10a3"
      },
      "source": [
        "print(labels)"
      ],
      "execution_count": 8,
      "outputs": [
        {
          "output_type": "stream",
          "text": [
            "['GMB_03', 'GMB_03', 'GMB_03', 'GMB_03', 'GMB_03', 'GMB_03', 'GMB_03', 'GMB_03', 'GMB_03', 'GMB_03', 'GMB_03', 'GMB_03', 'GMB_03', 'GMB_03', 'GMB_03', 'GMB_03', 'GMB_03', 'GMB_03', 'GMB_03', 'GMB_03', 'GMB_03', 'GMB_03', 'GMB_03', 'GMB_03', 'GMB_03', 'GMB_03', 'GMB_03', 'GMB_03', 'GMB_03', 'GMB_03', 'GMB_03', 'GMB_03', 'GMB_03', 'GMB_03', 'GMB_03', 'GMB_03', 'GMB_03', 'GMB_03', 'GMB_03', 'GMB_03', 'GMB_03', 'GMB_03', 'GMB_03', 'GMB_03', 'GMB_03', 'GMB_03', 'GMB_03', 'GMB_03', 'GMB_03', 'GMB_03', 'GMB_03', 'GMB_03', 'GMB_03', 'GMB_03', 'GMB_03', 'GMB_03', 'GMB_03', 'GMB_03', 'GMB_03', 'GMB_03', 'GMB_03', 'GMB_03', 'GMB_03', 'GMB_03', 'GMB_03', 'GMB_03', 'GMB_03', 'GMB_03', 'GMB_03', 'GMB_03', 'GMB_03', 'GMB_03', 'GMB_03', 'GMB_03', 'GMB_03', 'GMB_03', 'GMB_03', 'GMB_03', 'GMB_03', 'GMB_03', 'GMB_03', 'GMB_03', 'GMB_03', 'GMB_03', 'GMB_03', 'GMB_03', 'GMB_03', 'GMB_03', 'GMB_03', 'GMB_03', 'GMB_03', 'GMB_03', 'GMB_03', 'GMB_03', 'GMB_03', 'GMB_03', 'GMB_03', 'GMB_03', 'GMB_03', 'GMB_03', 'GMB_03', 'GMB_03', 'GMB_03', 'GMB_03', 'GMB_03', 'GMB_03', 'GMB_03', 'GMB_03', 'GMB_03', 'GMB_03', 'GMB_03', 'GMB_03', 'GMB_01', 'GMB_01', 'GMB_01', 'GMB_01', 'GMB_01', 'GMB_01', 'GMB_01', 'GMB_01', 'GMB_01', 'GMB_01', 'GMB_01', 'GMB_01', 'GMB_01', 'GMB_01', 'GMB_01', 'GMB_01', 'GMB_01', 'GMB_01', 'GMB_01', 'GMB_01', 'GMB_01', 'GMB_01', 'GMB_01', 'GMB_01', 'GMB_01', 'GMB_01', 'GMB_01', 'GMB_01', 'GMB_01', 'GMB_01', 'GMB_01', 'GMB_01', 'GMB_01', 'GMB_01', 'GMB_01', 'GMB_01', 'GMB_01', 'GMB_01', 'GMB_01', 'GMB_01', 'GMB_01', 'GMB_01', 'GMB_01', 'GMB_01', 'GMB_01', 'GMB_01', 'GMB_01', 'GMB_01', 'GMB_01', 'GMB_01', 'GMB_01', 'GMB_01', 'GMB_01', 'GMB_01', 'GMB_01', 'GMB_01', 'GMB_01', 'GMB_01', 'GMB_01', 'GMB_01', 'GMB_01', 'GMB_01', 'GMB_01', 'GMB_01', 'GMB_01', 'GMB_01', 'GMB_01', 'GMB_01', 'GMB_01', 'GMB_01', 'GMB_01', 'GMB_01', 'GMB_01', 'GMB_01', 'GMB_01', 'GMB_01', 'GMB_01', 'GMB_01', 'GMB_01', 'GMB_01', 'GMB_01', 'GMB_01', 'GMB_01', 'GMB_01', 'GMB_01', 'GMB_01', 'GMB_01', 'GMB_01', 'GMB_01', 'GMB_01', 'GMB_01', 'GMB_01', 'GMB_01', 'GMB_01', 'GMB_01', 'GMB_01', 'GMB_01', 'GMB_01', 'GMB_01', 'GMB_01', 'GMB_01', 'GMB_01', 'GMB_01', 'GMB_01', 'GMB_01', 'GMB_01', 'GMB_01', 'GMB_01', 'GMB_01', 'GMB_01', 'GMB_01', 'GMB_01', 'GMB_01', 'GMB_01', 'GMB_01', 'GMB_01', 'GMB_02', 'GMB_02', 'GMB_02', 'GMB_02', 'GMB_02', 'GMB_02', 'GMB_02', 'GMB_02', 'GMB_02', 'GMB_02', 'GMB_02', 'GMB_02', 'GMB_02', 'GMB_02', 'GMB_02', 'GMB_02', 'GMB_02', 'GMB_02', 'GMB_02', 'GMB_02', 'GMB_02', 'GMB_02', 'GMB_02', 'GMB_02', 'GMB_02', 'GMB_02', 'GMB_02', 'GMB_02', 'GMB_02', 'GMB_02', 'GMB_02', 'GMB_02', 'GMB_02', 'GMB_02', 'GMB_02', 'GMB_02', 'GMB_02', 'GMB_02', 'GMB_02', 'GMB_02', 'GMB_02', 'GMB_02', 'GMB_02', 'GMB_02', 'GMB_02', 'GMB_02', 'GMB_02', 'GMB_02', 'GMB_02', 'GMB_02', 'GMB_02', 'GMB_02', 'GMB_02', 'GMB_02', 'GMB_02', 'GMB_02', 'GMB_02', 'GMB_02', 'GMB_02', 'GMB_02', 'GMB_02', 'GMB_02', 'GMB_02', 'GMB_02', 'GMB_02', 'GMB_02', 'GMB_02', 'GMB_02', 'GMB_02', 'GMB_02', 'GMB_02', 'GMB_02', 'GMB_02', 'GMB_02', 'GMB_02', 'GMB_02', 'GMB_02', 'GMB_02', 'GMB_02', 'GMB_02', 'GMB_02', 'GMB_02', 'GMB_02', 'GMB_02', 'GMB_02', 'GMB_02', 'GMB_02', 'GMB_02', 'GMB_02', 'GMB_02', 'GMB_02', 'GMB_02', 'GMB_02', 'GMB_02', 'GMB_02', 'GMB_02', 'GMB_02', 'GMB_02', 'GMB_02', 'GMB_02', 'GMB_02', 'GMB_02', 'GMB_02', 'GMB_02', 'GMB_02', 'GMB_02', 'GMB_02', 'GMB_02', 'GMB_02', 'GMB_02', 'GMB_02', 'GMB_02', 'GMB_02']\n"
          ],
          "name": "stdout"
        }
      ]
    },
    {
      "cell_type": "code",
      "metadata": {
        "id": "Ft6xeGs4n5R4"
      },
      "source": [
        "# encode the labels, converting them from strings to integers\n",
        "lb = LabelBinarizer()\n",
        "labels = lb.fit_transform(labels)"
      ],
      "execution_count": 9,
      "outputs": []
    },
    {
      "cell_type": "code",
      "metadata": {
        "colab": {
          "base_uri": "https://localhost:8080/"
        },
        "id": "Orjk52apoPos",
        "outputId": "312a1a9d-6700-490f-d56a-452ed371389e"
      },
      "source": [
        "print(labels)"
      ],
      "execution_count": 10,
      "outputs": [
        {
          "output_type": "stream",
          "text": [
            "[[0 0 1]\n",
            " [0 0 1]\n",
            " [0 0 1]\n",
            " ...\n",
            " [0 1 0]\n",
            " [0 1 0]\n",
            " [0 1 0]]\n"
          ],
          "name": "stdout"
        }
      ]
    },
    {
      "cell_type": "code",
      "metadata": {
        "colab": {
          "base_uri": "https://localhost:8080/"
        },
        "id": "ELDBkY7loTjW",
        "outputId": "73cc913c-9365-497a-c2f0-d07613230fef"
      },
      "source": [
        "# perform a training and testing split, using 75% of the data for\n",
        "# training and 25% for evaluation\n",
        "(trainX, testX, trainY, testY) = train_test_split(np.array(data),\tnp.array(labels), test_size=0.25, shuffle=True)\n",
        "print(trainX.shape)\n",
        "print(testX.shape)"
      ],
      "execution_count": 11,
      "outputs": [
        {
          "output_type": "stream",
          "text": [
            "(255, 64, 64, 3)\n",
            "(86, 64, 64, 3)\n"
          ],
          "name": "stdout"
        }
      ]
    },
    {
      "cell_type": "code",
      "metadata": {
        "colab": {
          "base_uri": "https://localhost:8080/"
        },
        "id": "M9ohFI48oWDr",
        "outputId": "4a950545-95f4-4e61-dda5-e922c856196b"
      },
      "source": [
        "from keras.layers import Convolution2D, MaxPooling2D\n",
        "from keras.models import Sequential\n",
        "from keras.layers.core import Flatten, Dense\n",
        "\n",
        "model1 = Sequential()\n",
        "model1.add(Convolution2D(8, (3,3), activation='relu', input_shape=(64,64,3)))\n",
        "model1.add(MaxPooling2D(2,2))\n",
        "model1.add(Convolution2D(16, (3,3), activation='relu'))\n",
        "model1.add(MaxPooling2D(2,2))\n",
        "#fully connected layer\n",
        "model1.add(Flatten())\n",
        "model1.add(Dense(100, activation='relu'))\n",
        "model1.add(Dense(3, activation='softmax'))\n",
        "\n",
        "model1.summary()"
      ],
      "execution_count": 12,
      "outputs": [
        {
          "output_type": "stream",
          "text": [
            "Model: \"sequential\"\n",
            "_________________________________________________________________\n",
            "Layer (type)                 Output Shape              Param #   \n",
            "=================================================================\n",
            "conv2d (Conv2D)              (None, 62, 62, 8)         224       \n",
            "_________________________________________________________________\n",
            "max_pooling2d (MaxPooling2D) (None, 31, 31, 8)         0         \n",
            "_________________________________________________________________\n",
            "conv2d_1 (Conv2D)            (None, 29, 29, 16)        1168      \n",
            "_________________________________________________________________\n",
            "max_pooling2d_1 (MaxPooling2 (None, 14, 14, 16)        0         \n",
            "_________________________________________________________________\n",
            "flatten (Flatten)            (None, 3136)              0         \n",
            "_________________________________________________________________\n",
            "dense (Dense)                (None, 100)               313700    \n",
            "_________________________________________________________________\n",
            "dense_1 (Dense)              (None, 3)                 303       \n",
            "=================================================================\n",
            "Total params: 315,395\n",
            "Trainable params: 315,395\n",
            "Non-trainable params: 0\n",
            "_________________________________________________________________\n"
          ],
          "name": "stdout"
        }
      ]
    },
    {
      "cell_type": "code",
      "metadata": {
        "colab": {
          "base_uri": "https://localhost:8080/"
        },
        "id": "RUUuuHOGoZLz",
        "outputId": "7723bcf3-b7d1-4096-e0d4-4e74a1d776f5"
      },
      "source": [
        "# train the model using the Adam optimizer\n",
        "print(\"[INFO] training network...\")\n",
        "opt = Adam(lr=1e-3, decay=1e-3 / 50)\n",
        "model1.compile(loss=\"categorical_crossentropy\", optimizer=opt, metrics=[\"accuracy\"])"
      ],
      "execution_count": 13,
      "outputs": [
        {
          "output_type": "stream",
          "text": [
            "[INFO] training network...\n"
          ],
          "name": "stdout"
        }
      ]
    },
    {
      "cell_type": "code",
      "metadata": {
        "colab": {
          "base_uri": "https://localhost:8080/"
        },
        "id": "38cbfwf1ocw7",
        "outputId": "369a772c-b23e-4759-d21d-33a0686e9203"
      },
      "source": [
        "H = model1.fit(trainX, trainY, validation_data=(testX, testY), epochs=25, batch_size=32)"
      ],
      "execution_count": 14,
      "outputs": [
        {
          "output_type": "stream",
          "text": [
            "Epoch 1/25\n",
            "8/8 [==============================] - 1s 80ms/step - loss: 1.2066 - accuracy: 0.2549 - val_loss: 1.1115 - val_accuracy: 0.3256\n",
            "Epoch 2/25\n",
            "8/8 [==============================] - 0s 48ms/step - loss: 1.0801 - accuracy: 0.4039 - val_loss: 1.0699 - val_accuracy: 0.4186\n",
            "Epoch 3/25\n",
            "8/8 [==============================] - 0s 61ms/step - loss: 1.0408 - accuracy: 0.4784 - val_loss: 1.0309 - val_accuracy: 0.5814\n",
            "Epoch 4/25\n",
            "8/8 [==============================] - 0s 62ms/step - loss: 0.9728 - accuracy: 0.6314 - val_loss: 0.9947 - val_accuracy: 0.4767\n",
            "Epoch 5/25\n",
            "8/8 [==============================] - 0s 57ms/step - loss: 0.8859 - accuracy: 0.6118 - val_loss: 0.9194 - val_accuracy: 0.6512\n",
            "Epoch 6/25\n",
            "8/8 [==============================] - 0s 62ms/step - loss: 0.7953 - accuracy: 0.7059 - val_loss: 0.8582 - val_accuracy: 0.6744\n",
            "Epoch 7/25\n",
            "8/8 [==============================] - 1s 63ms/step - loss: 0.7129 - accuracy: 0.7020 - val_loss: 0.8086 - val_accuracy: 0.6744\n",
            "Epoch 8/25\n",
            "8/8 [==============================] - 0s 62ms/step - loss: 0.6275 - accuracy: 0.7451 - val_loss: 0.7044 - val_accuracy: 0.7326\n",
            "Epoch 9/25\n",
            "8/8 [==============================] - 0s 62ms/step - loss: 0.5536 - accuracy: 0.7922 - val_loss: 0.7517 - val_accuracy: 0.6628\n",
            "Epoch 10/25\n",
            "8/8 [==============================] - 0s 60ms/step - loss: 0.5035 - accuracy: 0.8039 - val_loss: 0.6984 - val_accuracy: 0.6977\n",
            "Epoch 11/25\n",
            "8/8 [==============================] - 0s 62ms/step - loss: 0.4734 - accuracy: 0.8118 - val_loss: 0.6484 - val_accuracy: 0.7442\n",
            "Epoch 12/25\n",
            "8/8 [==============================] - 0s 61ms/step - loss: 0.4108 - accuracy: 0.8510 - val_loss: 0.7178 - val_accuracy: 0.7326\n",
            "Epoch 13/25\n",
            "8/8 [==============================] - 0s 62ms/step - loss: 0.3761 - accuracy: 0.8588 - val_loss: 0.7083 - val_accuracy: 0.6977\n",
            "Epoch 14/25\n",
            "8/8 [==============================] - 0s 54ms/step - loss: 0.4176 - accuracy: 0.8314 - val_loss: 0.6117 - val_accuracy: 0.7558\n",
            "Epoch 15/25\n",
            "8/8 [==============================] - 0s 61ms/step - loss: 0.3599 - accuracy: 0.8588 - val_loss: 0.6496 - val_accuracy: 0.7326\n",
            "Epoch 16/25\n",
            "8/8 [==============================] - 0s 58ms/step - loss: 0.3250 - accuracy: 0.8745 - val_loss: 0.6221 - val_accuracy: 0.7442\n",
            "Epoch 17/25\n",
            "8/8 [==============================] - 1s 63ms/step - loss: 0.2905 - accuracy: 0.8863 - val_loss: 0.6218 - val_accuracy: 0.7326\n",
            "Epoch 18/25\n",
            "8/8 [==============================] - 0s 62ms/step - loss: 0.2672 - accuracy: 0.9020 - val_loss: 0.5881 - val_accuracy: 0.7442\n",
            "Epoch 19/25\n",
            "8/8 [==============================] - 0s 61ms/step - loss: 0.2378 - accuracy: 0.9294 - val_loss: 0.5885 - val_accuracy: 0.7674\n",
            "Epoch 20/25\n",
            "8/8 [==============================] - 0s 62ms/step - loss: 0.2276 - accuracy: 0.9216 - val_loss: 0.5831 - val_accuracy: 0.7558\n",
            "Epoch 21/25\n",
            "8/8 [==============================] - 0s 61ms/step - loss: 0.2367 - accuracy: 0.9059 - val_loss: 0.6216 - val_accuracy: 0.7674\n",
            "Epoch 22/25\n",
            "8/8 [==============================] - 1s 63ms/step - loss: 0.1939 - accuracy: 0.9333 - val_loss: 0.5532 - val_accuracy: 0.7674\n",
            "Epoch 23/25\n",
            "8/8 [==============================] - 0s 62ms/step - loss: 0.1930 - accuracy: 0.9373 - val_loss: 0.6563 - val_accuracy: 0.7674\n",
            "Epoch 24/25\n",
            "8/8 [==============================] - 1s 64ms/step - loss: 0.2000 - accuracy: 0.9294 - val_loss: 0.5909 - val_accuracy: 0.7791\n",
            "Epoch 25/25\n",
            "8/8 [==============================] - 0s 62ms/step - loss: 0.1859 - accuracy: 0.9412 - val_loss: 0.5577 - val_accuracy: 0.7674\n"
          ],
          "name": "stdout"
        }
      ]
    },
    {
      "cell_type": "code",
      "metadata": {
        "colab": {
          "base_uri": "https://localhost:8080/",
          "height": 590
        },
        "id": "s54ZSUg8of_3",
        "outputId": "dd7a7bdd-69d9-4212-e074-a983ac402671"
      },
      "source": [
        "import matplotlib.pyplot as plt\n",
        "\n",
        "print(H.history.keys())\n",
        "# summarize history for accuracy\n",
        "plt.plot(H.history['accuracy'])\n",
        "plt.plot(H.history['val_accuracy'])\n",
        "plt.title('model accuracy')\n",
        "plt.ylabel('accuracy')\n",
        "plt.xlabel('epoch')\n",
        "plt.legend(['train', 'test'], loc='upper left')\n",
        "plt.show()\n",
        "# summarize history for loss\n",
        "plt.plot(H.history['loss'])\n",
        "plt.plot(H.history['val_loss'])\n",
        "plt.title('model loss')\n",
        "plt.ylabel('loss')\n",
        "plt.xlabel('epoch')\n",
        "plt.legend(['train', 'test'], loc='upper left')\n",
        "plt.show()"
      ],
      "execution_count": 15,
      "outputs": [
        {
          "output_type": "stream",
          "text": [
            "dict_keys(['loss', 'accuracy', 'val_loss', 'val_accuracy'])\n"
          ],
          "name": "stdout"
        },
        {
          "output_type": "display_data",
          "data": {
            "image/png": "[encoded data removed]",
            "text/plain": [
              "<Figure size 432x288 with 1 Axes>"
            ]
          },
          "metadata": {
            "tags": [],
            "needs_background": "light"
          }
        },
        {
          "output_type": "display_data",
          "data": {
            "image/png": "[encoded data removed]",
            "text/plain": [
              "<Figure size 432x288 with 1 Axes>"
            ]
          },
          "metadata": {
            "tags": [],
            "needs_background": "light"
          }
        }
      ]
    },
    {
      "cell_type": "code",
      "metadata": {
        "colab": {
          "base_uri": "https://localhost:8080/"
        },
        "id": "aXyDg74JojnA",
        "outputId": "7e645d0d-970d-4c9d-ddd5-20e523b7f0e1"
      },
      "source": [
        "# evaluate the network\n",
        "print(\"[INFO] evaluating network...\")\n",
        "predictions = model1.predict(testX, batch_size=32)\n",
        "print(classification_report(testY.argmax(axis=1),\n",
        "\tpredictions.argmax(axis=1), target_names=lb.classes_))"
      ],
      "execution_count": 16,
      "outputs": [
        {
          "output_type": "stream",
          "text": [
            "[INFO] evaluating network...\n",
            "              precision    recall  f1-score   support\n",
            "\n",
            "      GMB_01       0.78      0.75      0.76        28\n",
            "      GMB_02       0.69      0.73      0.71        30\n",
            "      GMB_03       0.85      0.82      0.84        28\n",
            "\n",
            "    accuracy                           0.77        86\n",
            "   macro avg       0.77      0.77      0.77        86\n",
            "weighted avg       0.77      0.77      0.77        86\n",
            "\n"
          ],
          "name": "stdout"
        }
      ]
    },
    {
      "cell_type": "code",
      "metadata": {
        "colab": {
          "base_uri": "https://localhost:8080/"
        },
        "id": "7MrnBspGol-O",
        "outputId": "1dbcd5b5-e821-4acb-cecc-2f07abb17c6c"
      },
      "source": [
        "model1.save('pertemuan 11')"
      ],
      "execution_count": 17,
      "outputs": [
        {
          "output_type": "stream",
          "text": [
            "WARNING:tensorflow:From /usr/local/lib/python3.6/dist-packages/tensorflow/python/training/tracking/tracking.py:111: Model.state_updates (from tensorflow.python.keras.engine.training) is deprecated and will be removed in a future version.\n",
            "Instructions for updating:\n",
            "This property should not be used in TensorFlow 2.0, as updates are applied automatically.\n",
            "WARNING:tensorflow:From /usr/local/lib/python3.6/dist-packages/tensorflow/python/training/tracking/tracking.py:111: Layer.updates (from tensorflow.python.keras.engine.base_layer) is deprecated and will be removed in a future version.\n",
            "Instructions for updating:\n",
            "This property should not be used in TensorFlow 2.0, as updates are applied automatically.\n",
            "INFO:tensorflow:Assets written to: pertemuan 11/assets\n"
          ],
          "name": "stdout"
        }
      ]
    }
  ]
}